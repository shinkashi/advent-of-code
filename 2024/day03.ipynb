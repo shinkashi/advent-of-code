{
 "cells": [
  {
   "cell_type": "code",
   "execution_count": 93,
   "metadata": {},
   "outputs": [],
   "source": [
    "let input = 'xmul(2,4)%&mul[3,7]!@^do_not_mul(5,5)+mul(32,64]then(mul(11,8)mul(8,5))'\n"
   ]
  },
  {
   "cell_type": "code",
   "execution_count": 94,
   "metadata": {},
   "outputs": [],
   "source": [
    "const decoder = new TextDecoder(\"utf-8\");\n",
    "const data = Deno.readFileSync(\"day03.input\");\n",
    "let input2 = decoder.decode(data)\n"
   ]
  },
  {
   "cell_type": "code",
   "execution_count": 95,
   "metadata": {},
   "outputs": [],
   "source": [
    "let res = input.matchAll(/mul\\((\\d+),(\\d+)\\)/g);\n"
   ]
  },
  {
   "cell_type": "code",
   "execution_count": 96,
   "metadata": {},
   "outputs": [],
   "source": [
    "let res2 = Array.from(res.map(r => {\n",
    "    let [_, a, b] = r;\n",
    "    return a * b;\n",
    "}));\n",
    "\n"
   ]
  },
  {
   "cell_type": "code",
   "execution_count": 97,
   "metadata": {},
   "outputs": [
    {
     "name": "stdout",
     "output_type": "stream",
     "text": [
      "[ 8, 25, 88, 40 ]\n"
     ]
    },
    {
     "data": {
      "text/plain": [
       "\u001b[33m161\u001b[39m"
      ]
     },
     "execution_count": 97,
     "metadata": {},
     "output_type": "execute_result"
    }
   ],
   "source": [
    "console.log([...res2])\n",
    "\n",
    "\n",
    "let res3 = [...res2].reduce((a, b) => a+b, 0)\n",
    "res3"
   ]
  },
  {
   "cell_type": "code",
   "execution_count": 98,
   "metadata": {},
   "outputs": [
    {
     "data": {
      "text/plain": [
       "\u001b[33m161\u001b[39m"
      ]
     },
     "execution_count": 98,
     "metadata": {},
     "output_type": "execute_result"
    }
   ],
   "source": [
    "res3"
   ]
  },
  {
   "cell_type": "markdown",
   "metadata": {},
   "source": [
    "# Part Two"
   ]
  },
  {
   "cell_type": "code",
   "execution_count": null,
   "metadata": {},
   "outputs": [],
   "source": []
  },
  {
   "cell_type": "code",
   "execution_count": 99,
   "metadata": {},
   "outputs": [],
   "source": [
    "let input = \"xmul(2,4)&mul[3,7]!^don't()_mul(5,5)+mul(32,64](mul(11,8)undo()?mul(8,5))\"\n"
   ]
  },
  {
   "cell_type": "code",
   "execution_count": null,
   "metadata": {},
   "outputs": [],
   "source": []
  },
  {
   "cell_type": "code",
   "execution_count": 105,
   "metadata": {},
   "outputs": [
    {
     "name": "stdout",
     "output_type": "stream",
     "text": [
      "[\n",
      "  \"mul(843,597)\", \"mul(717,524)\", \"mul(928,721)\", \"mul(194,52)\",  \"mul(31,582)\",\n",
      "  \"mul(209,470)\", \"mul(834,167)\", \"mul(188,914)\", \"mul(133,940)\", \"mul(732,657)\",\n",
      "  \"mul(332,604)\", \"do()\",         \"mul(613,614)\", \"mul(458,93)\",  \"mul(184,924)\",\n",
      "  \"mul(882,83)\",  \"mul(878,13)\",  \"mul(947,828)\", \"mul(837,672)\", \"mul(325,979)\",\n",
      "  \"mul(226,766)\", \"mul(964,728)\", \"mul(420,781)\", \"mul(624,205)\", \"mul(33,801)\",\n",
      "  \"mul(614,925)\", \"mul(660,91)\",  \"mul(205,753)\", \"mul(136,460)\", \"mul(316,262)\",\n",
      "  \"mul(290,988)\", \"mul(694,616)\", \"mul(666,785)\", \"mul(668,125)\", \"mul(728,226)\",\n",
      "  \"mul(478,823)\", \"do()\",         \"mul(166,999)\", \"mul(368,199)\", \"mul(43,454)\",\n",
      "  \"do()\",         \"mul(228,279)\", \"mul(413,456)\", \"mul(769,535)\", \"mul(290,859)\",\n",
      "  \"do()\",         \"mul(734,882)\", \"mul(346,904)\", \"mul(319,21)\",  \"mul(548,912)\",\n",
      "  \"mul(776,306)\", \"mul(805,224)\", \"mul(641,941)\", \"mul(880,39)\",  \"mul(367,322)\",\n",
      "  \"do()\",         \"mul(297,155)\", \"mul(582,935)\", \"mul(924,453)\", \"mul(962,327)\",\n",
      "  \"don't()\",      \"mul(493,697)\", \"mul(64,397)\",  \"mul(133,628)\", \"mul(245,450)\",\n",
      "  \"mul(8,731)\",   \"mul(862,150)\", \"mul(129,583)\", \"mul(557,879)\", \"mul(969,31)\",\n",
      "  \"mul(243,857)\", \"mul(418,611)\", \"mul(381,404)\", \"mul(992,433)\", \"mul(823,119)\",\n",
      "  \"mul(436,64)\",  \"mul(776,698)\", \"mul(859,821)\", \"don't()\",      \"mul(531,594)\",\n",
      "  \"mul(246,430)\", \"mul(18,784)\",  \"mul(360,42)\",  \"mul(113,212)\", \"mul(765,643)\",\n",
      "  \"mul(853,147)\", \"mul(396,209)\", \"mul(479,669)\", \"mul(542,614)\", \"mul(398,910)\",\n",
      "  \"mul(687,370)\", \"mul(59,590)\",  \"mul(382,325)\", \"mul(124,796)\", \"mul(227,847)\",\n",
      "  \"mul(588,764)\", \"mul(496,225)\", \"mul(998,360)\", \"mul(584,368)\", \"mul(607,933)\",\n",
      "  ... 643 more items\n",
      "]\n"
     ]
    }
   ],
   "source": [
    "let res = Array.from(input2.matchAll(/mul\\((\\d+),(\\d+)\\)|do\\(\\)|don't\\(\\)/g))\n",
    "console.log(res.map(r => r[0]))\n"
   ]
  },
  {
   "cell_type": "code",
   "execution_count": 106,
   "metadata": {},
   "outputs": [
    {
     "data": {
      "text/plain": [
       "\u001b[33m72948684\u001b[39m"
      ]
     },
     "execution_count": 106,
     "metadata": {},
     "output_type": "execute_result"
    }
   ],
   "source": [
    "let enabled = true;\n",
    "let sum = 0;\n",
    "\n",
    "for (const m of res) {\n",
    "    const [inst, x, y] = m;\n",
    "    if (inst.startsWith('mul(') && enabled) {\n",
    "        sum += x * y;\n",
    "    }\n",
    "    if (inst === \"do()\") { enabled = true; }\n",
    "    if (inst === \"don't()\") { enabled = false; }\n",
    "}\n",
    "\n",
    "sum"
   ]
  },
  {
   "cell_type": "code",
   "execution_count": null,
   "metadata": {},
   "outputs": [],
   "source": [
    "n"
   ]
  }
 ],
 "metadata": {
  "kernelspec": {
   "display_name": "Deno",
   "language": "typescript",
   "name": "deno"
  },
  "language_info": {
   "codemirror_mode": "typescript",
   "file_extension": ".ts",
   "mimetype": "text/x.typescript",
   "name": "typescript",
   "nbconvert_exporter": "script",
   "pygments_lexer": "typescript",
   "version": "5.6.2"
  }
 },
 "nbformat": 4,
 "nbformat_minor": 2
}
