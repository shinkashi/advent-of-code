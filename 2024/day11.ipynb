{
 "cells": [
  {
   "cell_type": "code",
   "execution_count": 2,
   "metadata": {},
   "outputs": [],
   "source": [
    "const sample = [125, 17]\n",
    "\n",
    "const input = [5688,62084,2, 3248809, 179, 79, 0 ,172169]"
   ]
  },
  {
   "cell_type": "code",
   "execution_count": 3,
   "metadata": {},
   "outputs": [
    {
     "name": "stdout",
     "output_type": "stream",
     "text": [
      "Node {\n",
      "  value: 5688,\n",
      "  next: Node {\n",
      "    value: 62084,\n",
      "    next: Node {\n",
      "      value: 2,\n",
      "      next: Node { value: 3248809, next: Node { value: 179, next: [Node] } }\n",
      "    }\n",
      "  }\n",
      "}\n"
     ]
    }
   ],
   "source": [
    "class Node {\n",
    "    public value: number\n",
    "    public next: Node | undefined\n",
    "\n",
    "    constructor(n: number, next?: Node) {\n",
    "        this.value = n;\n",
    "        this.next = next;\n",
    "    }\n",
    "\n",
    "    insertAfter(n: number) {\n",
    "        const node = new Node(n, this.next);\n",
    "        this.next = node;\n",
    "        return node;\n",
    "    }   \n",
    "}\n",
    "\n",
    "\n",
    "const head: Node = new Node(-1)\n",
    "let node = head;\n",
    "\n",
    "input.forEach(n => {\n",
    "    node = node.insertAfter(n);\n",
    "})\n",
    "\n",
    "const startNode = head.next;\n",
    "\n",
    "console.log(startNode);"
   ]
  },
  {
   "cell_type": "code",
   "execution_count": 4,
   "metadata": {},
   "outputs": [],
   "source": [
    "const printNode = (n: Node) => {\n",
    "    let result = \"\"\n",
    "\n",
    "    while (n) {\n",
    "        result += ` ${n.value}`;\n",
    "        n = n.next;\n",
    "    }\n",
    "\n",
    "    return result + \"\\n\"\n",
    "}\n",
    "\n",
    "const countNode = (n: Node) => {\n",
    "    let c = 0;\n",
    "    while (n) {\n",
    "        c++;\n",
    "        n = n.next;\n",
    "    }\n",
    "    return c;\n",
    "}"
   ]
  },
  {
   "cell_type": "code",
   "execution_count": 5,
   "metadata": {},
   "outputs": [
    {
     "name": "stdout",
     "output_type": "stream",
     "text": [
      "iteration 1\n",
      "11\n",
      "iteration 2\n",
      "16\n",
      "iteration 3\n",
      "22\n",
      "iteration 4\n",
      "31\n",
      "iteration 5\n",
      "46\n"
     ]
    }
   ],
   "source": [
    "const blink = (nn: Node|null) => {\n",
    "    let n: Node|null = nn;\n",
    "\n",
    "    while (n != null) {\n",
    "        if (n.value === 0) {\n",
    "            n.value = 1;\n",
    "        } else {\n",
    "            const digits = String(n.value).length;\n",
    "            if (digits % 2 === 0) {\n",
    "                const v1 = Number(String(n.value).slice(0, digits / 2));\n",
    "                const v2 = Number(String(n.value).slice(digits / 2));\n",
    "                n.value = v1;\n",
    "                n.insertAfter(v2);\n",
    "                n = n.next;\n",
    "            } else {\n",
    "                n.value *= 2024;\n",
    "            }\n",
    "\n",
    "        }\n",
    "        n = n.next;\n",
    "    }\n",
    "}\n",
    "\n",
    "for (let i = 1; i <= 5; i++) {\n",
    "    console.log(`iteration ${i}`)\n",
    "    blink(startNode);\n",
    "    // console.log(printNode(startNode));\n",
    "    console.log(countNode(startNode));\n",
    "}\n"
   ]
  },
  {
   "cell_type": "markdown",
   "metadata": {},
   "source": [
    "# Part Two memo\n",
    "\n",
    "Each numebr is separate and does not affect others.\n",
    "\n",
    "We can memorize blinkCount(v, steps) // after steps\n",
    "\n",
    "blinkCount(v, 0) = 1\n",
    "blinkCount(v, s) => {\n",
    "    v = 0: blinkCount(1, s-1)\n",
    "    v has even digits: blinkCount(v1, s-1) + blinkCount(v2, s-1)\n",
    "    otherwise: blinkCount(v * 2024, s-1)\n",
    "}\n"
   ]
  },
  {
   "cell_type": "code",
   "execution_count": null,
   "metadata": {},
   "outputs": [],
   "source": []
  },
  {
   "cell_type": "markdown",
   "metadata": {},
   "source": []
  },
  {
   "cell_type": "code",
   "execution_count": null,
   "metadata": {},
   "outputs": [],
   "source": []
  },
  {
   "cell_type": "code",
   "execution_count": null,
   "metadata": {},
   "outputs": [],
   "source": []
  },
  {
   "cell_type": "code",
   "execution_count": null,
   "metadata": {},
   "outputs": [],
   "source": []
  }
 ],
 "metadata": {
  "kernelspec": {
   "display_name": "Deno",
   "language": "typescript",
   "name": "deno"
  },
  "language_info": {
   "codemirror_mode": "typescript",
   "file_extension": ".ts",
   "mimetype": "text/x.typescript",
   "name": "typescript",
   "nbconvert_exporter": "script",
   "pygments_lexer": "typescript",
   "version": "5.6.2"
  }
 },
 "nbformat": 4,
 "nbformat_minor": 2
}
